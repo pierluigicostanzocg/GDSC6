{
  "cells": [
    {
      "cell_type": "markdown",
      "id": "b97b856e-d267-44fa-9666-d4cf436470f6",
      "metadata": {
        "id": "b97b856e-d267-44fa-9666-d4cf436470f6"
      },
      "source": [
        "# Train the AutoModel with SageMaker training jobs"
      ]
    },
    {
      "cell_type": "markdown",
      "id": "0ecb3c7b-b471-48a0-a64b-07aee90ccf22",
      "metadata": {
        "id": "0ecb3c7b-b471-48a0-a64b-07aee90ccf22"
      },
      "source": [
        "This notebook is a walk-through on how to train and evaluated the AutoModel within Sagemaker training job. Sagemaker training jobs have several advantages over a normal notebook, like:\n",
        "\n",
        "- provide a nice overview of all the training you ran\n",
        "- automatically store the results of a training run (metrics, [logs](https://console.aws.amazon.com/cloudwatch) and models)\n",
        "- allows running multiple training jobs in parallel if sufficient GPUs is allocated"
      ]
    },
    {
      "cell_type": "markdown",
      "id": "a30592f3-1c00-45b7-a6a6-66691ddeebff",
      "metadata": {
        "id": "a30592f3-1c00-45b7-a6a6-66691ddeebff"
      },
      "source": [
        "## Setup\n",
        "\n",
        "First, we need to import required libraries and functions."
      ]
    },
    {
      "cell_type": "code",
      "execution_count": null,
      "id": "60d1e3ca-df58-418e-8b76-770c30dfcefe",
      "metadata": {
        "tags": [],
        "id": "60d1e3ca-df58-418e-8b76-770c30dfcefe"
      },
      "outputs": [],
      "source": [
        "import sys                                                                             # Python system library needed to load custom functions\n",
        "import numpy as np                                                                     # for performing calculations on numerical arrays\n",
        "import pandas as pd                                                                    # home of the DataFrame construct, _the_ most important object for Data Science\n",
        "import seaborn as sns                                                                  # additional plotting library\n",
        "import matplotlib.pyplot as plt                                                        # allows creation of insightful plots\n",
        "import os                                                                              # for changing the directory\n",
        "\n",
        "import sagemaker                                                                       # dedicated sagemaker library to execute training jobs\n",
        "import boto3                                                                           # for interacting with S3 buckets\n",
        "\n",
        "from sagemaker.huggingface import HuggingFace                                           # for executing the trainig jobs\n",
        "from sklearn.metrics import precision_recall_fscore_support, accuracy_score             # tools to understand how our model is performing\n",
        "\n",
        "sys.path.append('../src')                                                               # Add the source directory to the PYTHONPATH. This allows to import local functions and modules.\n",
        "from gdsc_utils import create_encrypted_bucket, download_and_extract_model, PROJECT_DIR # functions to create S3 buckets and to help with downloading models. Importing our root directory\n",
        "from gdsc_eval import plot_confusion_matrix                                             # function for creating confusion matrix\n",
        "from config import DEFAULT_BUCKET, DEFAULT_REGION                                       # importing the bucket name that contains data for the challenge and the default region\n",
        "os.chdir(PROJECT_DIR)                                                                   # changing our directory to root"
      ]
    },
    {
      "cell_type": "markdown",
      "id": "0aa3cff6-ab5b-4670-ba36-6b426d5a7c7e",
      "metadata": {
        "tags": [],
        "id": "0aa3cff6-ab5b-4670-ba36-6b426d5a7c7e"
      },
      "source": [
        "# Running the Training Script\n",
        "\n",
        "The training job will run on a virtual machine (called an instance) in the AWS cloud. Need to set the name of our experiment and every experiment should have a unique name."
      ]
    },
    {
      "cell_type": "code",
      "execution_count": null,
      "id": "1973311c-bf2b-4e95-9fad-ff0bfb51d342",
      "metadata": {
        "tags": [],
        "id": "1973311c-bf2b-4e95-9fad-ff0bfb51d342"
      },
      "outputs": [],
      "source": [
        "entry_point = 'auto_train.py'\n",
        "exp_name = entry_point.split('.')[0].replace('_', '-')  # AWS does not allow . and _ as experiment names\n",
        "exp_name"
      ]
    },
    {
      "cell_type": "markdown",
      "id": "56a4a5fa-e822-44b9-aa47-e8833b514ad8",
      "metadata": {
        "id": "56a4a5fa-e822-44b9-aa47-e8833b514ad8"
      },
      "source": [
        "Next, we need to define the AWS settings for the job."
      ]
    },
    {
      "cell_type": "code",
      "execution_count": null,
      "id": "dc19b0a2-0e01-40d4-be62-89c505fc3073",
      "metadata": {
        "tags": [],
        "id": "dc19b0a2-0e01-40d4-be62-89c505fc3073"
      },
      "outputs": [],
      "source": [
        "account_id = boto3.client('sts').get_caller_identity().get('Account')\n",
        "role = sagemaker.get_execution_role()"
      ]
    },
    {
      "cell_type": "markdown",
      "id": "ba884f95-09e4-40e9-af7a-f4c6e81e565e",
      "metadata": {
        "id": "ba884f95-09e4-40e9-af7a-f4c6e81e565e"
      },
      "source": [
        "Sagemaker has built-in functionality for downloading the data to train a model.\n",
        "Via the ```input_channels``` parameter we can specify multiple S3 locations. The contents are downloaded in the training job and made available under the provided name (dictionary key).\n",
        "Sagemaker will download the complete content of the training data bucket, store it on the instance and, save its location in an environment variable called ```SM_CHANNEL_DATA```.<br>"
      ]
    },
    {
      "cell_type": "code",
      "execution_count": null,
      "id": "75e3e65c-7832-4e5e-9ce1-ebce1600a11c",
      "metadata": {
        "tags": [],
        "id": "75e3e65c-7832-4e5e-9ce1-ebce1600a11c"
      },
      "outputs": [],
      "source": [
        "input_channels = {\n",
        "    \"data\": f\"s3://{DEFAULT_BUCKET}/data\"\n",
        "}\n",
        "input_channels"
      ]
    },
    {
      "cell_type": "code",
      "execution_count": null,
      "id": "76aa836b-0eac-45fd-a928-f8175567c516",
      "metadata": {
        "tags": [],
        "id": "76aa836b-0eac-45fd-a928-f8175567c516"
      },
      "outputs": [],
      "source": [
        "# We need to create our own s3 bucket if it doesn't exist yet:\n",
        "sagemaker_bucket = f\"sagemaker-{DEFAULT_REGION}-{account_id}\"\n",
        "create_encrypted_bucket(sagemaker_bucket)\n",
        "\n",
        "s3_output_location = f\"s3://{sagemaker_bucket}/{exp_name}\"\n",
        "s3_output_location"
      ]
    },
    {
      "cell_type": "markdown",
      "id": "3d88063a-d310-4871-8cf9-7a39abeeca7a",
      "metadata": {
        "id": "3d88063a-d310-4871-8cf9-7a39abeeca7a"
      },
      "source": [
        "<b>argparse</b> module is to define the parameters that will be passed to the script."
      ]
    },
    {
      "cell_type": "code",
      "execution_count": null,
      "id": "8de7da21-feda-4c38-9dca-e977f7186839",
      "metadata": {
        "tags": [],
        "id": "8de7da21-feda-4c38-9dca-e977f7186839"
      },
      "outputs": [],
      "source": [
        "hyperparameters={\n",
        "    \"epochs\":12,                                                   # number of training epochs\n",
        "    \"patience\":2,                                                  # early stopping - how many epoch without improvement will stop the training\n",
        "    \"train_batch_size\":4,                                          # training batch size\n",
        "    \"eval_batch_size\":4,                                           # evaluation batch size\n",
        "    \"model_name\":\"MIT/ast-finetuned-audioset-10-10-0.4593\",        # name of the pretrained model from HuggingFace\n",
        "    \"train_dir\":\"train\",                                           # folder name with training data\n",
        "    \"val_dir\":\"val\",                                               # folder name with validation data\n",
        "    \"test_dir\":\"test\",                                             # folder name with test data\n",
        "    \"sampling_rate\":44100,                                         # sampling rate\n",
        "    \"learning_rate\":float(3e-5),                                   # learning rate\n",
        "    \"gradient_accumulation_steps\":8,                               # the number of gradient accumulation steps to be used during training.\n",
        "    \"num_hidden_layers\":8,                                         # number of hidden layers to prune the model\n",
        "}"
      ]
    },
    {
      "cell_type": "markdown",
      "id": "3d738979-5f62-46fc-913d-a647080b73fc",
      "metadata": {
        "id": "3d738979-5f62-46fc-913d-a647080b73fc"
      },
      "source": [
        "Finally, we need to specify which metrics we want Sagemaker to automatically track. For this, we need to set up [regular expressions](https://en.wikipedia.org/wiki/Regular_expression) that will be applied to the logs.\n",
        "The corresponding values will then be stored and made visible in the training job."
      ]
    },
    {
      "cell_type": "code",
      "execution_count": null,
      "id": "fb052cbf-8e3b-4061-a5ea-1ea6ed233edd",
      "metadata": {
        "tags": [],
        "id": "fb052cbf-8e3b-4061-a5ea-1ea6ed233edd"
      },
      "outputs": [],
      "source": [
        "metric_definitions=[\n",
        "    {'Name': 'loss', 'Regex': \"'loss': ([0-9]+(.|e\\-)[0-9]+),?\"},\n",
        "    {'Name': 'learning_rate', 'Regex': \"'learning_rate': ([0-9]+(.|e\\-)[0-9]+),?\"},\n",
        "    {'Name': 'eval_loss', 'Regex': \"'eval_loss': ([0-9]+(.|e\\-)[0-9]+),?\"},\n",
        "    {'Name': 'eval_accuracy', 'Regex': \"'eval_accuracy': ([0-9]+(.|e\\-)[0-9]+),?\"},\n",
        "    {'Name': 'eval_f1', 'Regex': \"'eval_f1': ([0-9]+(.|e\\-)[0-9]+),?\"},\n",
        "    {'Name': 'eval_precision', 'Regex': \"'eval_precision': ([0-9]+(.|e\\-)[0-9]+),?\"},\n",
        "    {'Name': 'eval_recall', 'Regex': \"'eval_recall': ([0-9]+(.|e\\-)[0-9]+),?\"},\n",
        "    {'Name': 'epoch', 'Regex': \"'epoch': ([0-9]+(.|e\\-)[0-9]+),?\"}]"
      ]
    },
    {
      "cell_type": "markdown",
      "id": "f798b487-0627-4c34-8192-604b1180021b",
      "metadata": {
        "id": "f798b487-0627-4c34-8192-604b1180021b"
      },
      "source": [
        "Below is the estimator, to call the *fit* method to start the training job. As this might take a while, we can set ```wait=False``` so our notebook will not wait for the training job to finish and we can continue working, but for the sake of the tutorial let's set it to ```True```."
      ]
    },
    {
      "cell_type": "code",
      "execution_count": null,
      "id": "cee902e6-d4c3-4d68-a1a6-b4f47021cb1c",
      "metadata": {
        "tags": [],
        "id": "cee902e6-d4c3-4d68-a1a6-b4f47021cb1c"
      },
      "outputs": [],
      "source": [
        "image_uri = '954362353459.dkr.ecr.us-east-1.amazonaws.com/sm-training-custom:latest'\n",
        "\n",
        "huggingface_estimator = HuggingFace(\n",
        "    entry_point=entry_point,                # fine-tuning script to use in training job\n",
        "    source_dir=\"./src\",                     # directory where fine-tuning script is stored. This directory will be downloaded to training instance\n",
        "    instance_type=\"ml.g4dn.xlarge\",         # instance type - ml.g4dn.xlarge is a GPU instance so the training will be faster\n",
        "    output_path = s3_output_location,       # outputbucket to store our model after training\n",
        "    instance_count=1,                       # number of instances. We are limited to 1 instance\n",
        "    role=role,                              # IAM role used in training job to acccess AWS resources (S3)\n",
        "    image_uri = image_uri,                  # passing our custom image with the required libraries\n",
        "    py_version=\"py310\",                     # Python version\n",
        "    hyperparameters=hyperparameters,        # hyperparameters to use in training job\n",
        "    metric_definitions = metric_definitions # metrics we want to extract from logs. It will be visible in SageMaker training job UI\n",
        ")"
      ]
    },
    {
      "cell_type": "code",
      "execution_count": null,
      "id": "ce4bdcc7-ba86-494e-8310-91373b10e4a3",
      "metadata": {
        "tags": [],
        "id": "ce4bdcc7-ba86-494e-8310-91373b10e4a3"
      },
      "outputs": [],
      "source": [
        "huggingface_estimator.fit(input_channels, wait=True)"
      ]
    },
    {
      "cell_type": "code",
      "execution_count": null,
      "id": "d9677df1-ec12-471c-b953-7ad9c660b618",
      "metadata": {
        "tags": [],
        "id": "d9677df1-ec12-471c-b953-7ad9c660b618"
      },
      "outputs": [],
      "source": [
        "# save the model location to the filesystem so that we can use it later\n",
        "model_location = f'{s3_output_location}/{huggingface_estimator._hyperparameters[\"sagemaker_job_name\"]}/output/model.tar.gz'\n",
        "print(model_location)"
      ]
    },
    {
      "cell_type": "code",
      "execution_count": null,
      "id": "75a22b14-1bc5-4f97-b05f-b01a9278f2d5",
      "metadata": {
        "tags": [],
        "id": "75a22b14-1bc5-4f97-b05f-b01a9278f2d5"
      },
      "outputs": [],
      "source": [
        "# saving the csv file under the appropriate location. Create the folder if it doesn't exist\n",
        "model_folder_path =f\"models/{huggingface_estimator._hyperparameters['sagemaker_job_name']}\"\n",
        "\n",
        "if not os.path.exists(model_folder_path):\n",
        "    os.makedirs(model_folder_path)\n",
        "\n",
        "with open(f'{model_folder_path}/model_location.txt', 'w+') as f:\n",
        "    f.write(model_location)"
      ]
    },
    {
      "cell_type": "markdown",
      "id": "7f6c3134-0d58-49d2-8b80-0aaa9c511b32",
      "metadata": {
        "tags": [],
        "id": "7f6c3134-0d58-49d2-8b80-0aaa9c511b32"
      },
      "source": [
        "# The newly trained model!\n",
        "\n",
        "After the training job is finished you can download the results of the training job.\n",
        "\n",
        "First specify where the results should be stored."
      ]
    },
    {
      "cell_type": "code",
      "execution_count": null,
      "id": "44b43838-716c-47cf-823f-a8f40eb36854",
      "metadata": {
        "tags": [],
        "id": "44b43838-716c-47cf-823f-a8f40eb36854"
      },
      "outputs": [],
      "source": [
        "# read the model location from the filesystem\n",
        "with open(f'{model_folder_path}/model_location.txt', 'r') as f:\n",
        "    model_location = f.read()"
      ]
    },
    {
      "cell_type": "markdown",
      "id": "07ed3eec-008b-4ce3-8057-b40801d25b37",
      "metadata": {
        "id": "07ed3eec-008b-4ce3-8057-b40801d25b37"
      },
      "source": [
        "A custom function to downloads the results to the local directory."
      ]
    },
    {
      "cell_type": "code",
      "execution_count": null,
      "id": "d4cc86cd-a683-41be-8dd0-8c960d90bcb7",
      "metadata": {
        "tags": [],
        "id": "d4cc86cd-a683-41be-8dd0-8c960d90bcb7"
      },
      "outputs": [],
      "source": [
        "local_model_dir = download_and_extract_model(model_uri=model_location, local_dir='models')\n",
        "local_model_dir"
      ]
    },
    {
      "cell_type": "markdown",
      "id": "5732e186-0d63-4999-97a1-4215208aa31b",
      "metadata": {
        "id": "5732e186-0d63-4999-97a1-4215208aa31b"
      },
      "source": [
        "With everything set up, let's proceed to loading the test set predictions!"
      ]
    },
    {
      "cell_type": "code",
      "execution_count": null,
      "id": "df1cbbaa-4e29-460c-8c96-ea305ec5cc91",
      "metadata": {
        "tags": [],
        "id": "df1cbbaa-4e29-460c-8c96-ea305ec5cc91"
      },
      "outputs": [],
      "source": [
        "test_preds = pd.read_csv(f'{local_model_dir}/prediction_test.csv', index_col = False)\n",
        "test_preds.head()"
      ]
    }
  ],
  "metadata": {
    "availableInstances": [
      {
        "_defaultOrder": 0,
        "_isFastLaunch": true,
        "category": "General purpose",
        "gpuNum": 0,
        "hideHardwareSpecs": false,
        "memoryGiB": 4,
        "name": "ml.t3.medium",
        "vcpuNum": 2
      },
      {
        "_defaultOrder": 1,
        "_isFastLaunch": false,
        "category": "General purpose",
        "gpuNum": 0,
        "hideHardwareSpecs": false,
        "memoryGiB": 8,
        "name": "ml.t3.large",
        "vcpuNum": 2
      },
      {
        "_defaultOrder": 2,
        "_isFastLaunch": false,
        "category": "General purpose",
        "gpuNum": 0,
        "hideHardwareSpecs": false,
        "memoryGiB": 16,
        "name": "ml.t3.xlarge",
        "vcpuNum": 4
      },
      {
        "_defaultOrder": 3,
        "_isFastLaunch": false,
        "category": "General purpose",
        "gpuNum": 0,
        "hideHardwareSpecs": false,
        "memoryGiB": 32,
        "name": "ml.t3.2xlarge",
        "vcpuNum": 8
      },
      {
        "_defaultOrder": 4,
        "_isFastLaunch": true,
        "category": "General purpose",
        "gpuNum": 0,
        "hideHardwareSpecs": false,
        "memoryGiB": 8,
        "name": "ml.m5.large",
        "vcpuNum": 2
      },
      {
        "_defaultOrder": 5,
        "_isFastLaunch": false,
        "category": "General purpose",
        "gpuNum": 0,
        "hideHardwareSpecs": false,
        "memoryGiB": 16,
        "name": "ml.m5.xlarge",
        "vcpuNum": 4
      },
      {
        "_defaultOrder": 6,
        "_isFastLaunch": false,
        "category": "General purpose",
        "gpuNum": 0,
        "hideHardwareSpecs": false,
        "memoryGiB": 32,
        "name": "ml.m5.2xlarge",
        "vcpuNum": 8
      },
      {
        "_defaultOrder": 7,
        "_isFastLaunch": false,
        "category": "General purpose",
        "gpuNum": 0,
        "hideHardwareSpecs": false,
        "memoryGiB": 64,
        "name": "ml.m5.4xlarge",
        "vcpuNum": 16
      },
      {
        "_defaultOrder": 8,
        "_isFastLaunch": false,
        "category": "General purpose",
        "gpuNum": 0,
        "hideHardwareSpecs": false,
        "memoryGiB": 128,
        "name": "ml.m5.8xlarge",
        "vcpuNum": 32
      },
      {
        "_defaultOrder": 9,
        "_isFastLaunch": false,
        "category": "General purpose",
        "gpuNum": 0,
        "hideHardwareSpecs": false,
        "memoryGiB": 192,
        "name": "ml.m5.12xlarge",
        "vcpuNum": 48
      },
      {
        "_defaultOrder": 10,
        "_isFastLaunch": false,
        "category": "General purpose",
        "gpuNum": 0,
        "hideHardwareSpecs": false,
        "memoryGiB": 256,
        "name": "ml.m5.16xlarge",
        "vcpuNum": 64
      },
      {
        "_defaultOrder": 11,
        "_isFastLaunch": false,
        "category": "General purpose",
        "gpuNum": 0,
        "hideHardwareSpecs": false,
        "memoryGiB": 384,
        "name": "ml.m5.24xlarge",
        "vcpuNum": 96
      },
      {
        "_defaultOrder": 12,
        "_isFastLaunch": false,
        "category": "General purpose",
        "gpuNum": 0,
        "hideHardwareSpecs": false,
        "memoryGiB": 8,
        "name": "ml.m5d.large",
        "vcpuNum": 2
      },
      {
        "_defaultOrder": 13,
        "_isFastLaunch": false,
        "category": "General purpose",
        "gpuNum": 0,
        "hideHardwareSpecs": false,
        "memoryGiB": 16,
        "name": "ml.m5d.xlarge",
        "vcpuNum": 4
      },
      {
        "_defaultOrder": 14,
        "_isFastLaunch": false,
        "category": "General purpose",
        "gpuNum": 0,
        "hideHardwareSpecs": false,
        "memoryGiB": 32,
        "name": "ml.m5d.2xlarge",
        "vcpuNum": 8
      },
      {
        "_defaultOrder": 15,
        "_isFastLaunch": false,
        "category": "General purpose",
        "gpuNum": 0,
        "hideHardwareSpecs": false,
        "memoryGiB": 64,
        "name": "ml.m5d.4xlarge",
        "vcpuNum": 16
      },
      {
        "_defaultOrder": 16,
        "_isFastLaunch": false,
        "category": "General purpose",
        "gpuNum": 0,
        "hideHardwareSpecs": false,
        "memoryGiB": 128,
        "name": "ml.m5d.8xlarge",
        "vcpuNum": 32
      },
      {
        "_defaultOrder": 17,
        "_isFastLaunch": false,
        "category": "General purpose",
        "gpuNum": 0,
        "hideHardwareSpecs": false,
        "memoryGiB": 192,
        "name": "ml.m5d.12xlarge",
        "vcpuNum": 48
      },
      {
        "_defaultOrder": 18,
        "_isFastLaunch": false,
        "category": "General purpose",
        "gpuNum": 0,
        "hideHardwareSpecs": false,
        "memoryGiB": 256,
        "name": "ml.m5d.16xlarge",
        "vcpuNum": 64
      },
      {
        "_defaultOrder": 19,
        "_isFastLaunch": false,
        "category": "General purpose",
        "gpuNum": 0,
        "hideHardwareSpecs": false,
        "memoryGiB": 384,
        "name": "ml.m5d.24xlarge",
        "vcpuNum": 96
      },
      {
        "_defaultOrder": 20,
        "_isFastLaunch": false,
        "category": "General purpose",
        "gpuNum": 0,
        "hideHardwareSpecs": true,
        "memoryGiB": 0,
        "name": "ml.geospatial.interactive",
        "supportedImageNames": [
          "sagemaker-geospatial-v1-0"
        ],
        "vcpuNum": 0
      },
      {
        "_defaultOrder": 21,
        "_isFastLaunch": true,
        "category": "Compute optimized",
        "gpuNum": 0,
        "hideHardwareSpecs": false,
        "memoryGiB": 4,
        "name": "ml.c5.large",
        "vcpuNum": 2
      },
      {
        "_defaultOrder": 22,
        "_isFastLaunch": false,
        "category": "Compute optimized",
        "gpuNum": 0,
        "hideHardwareSpecs": false,
        "memoryGiB": 8,
        "name": "ml.c5.xlarge",
        "vcpuNum": 4
      },
      {
        "_defaultOrder": 23,
        "_isFastLaunch": false,
        "category": "Compute optimized",
        "gpuNum": 0,
        "hideHardwareSpecs": false,
        "memoryGiB": 16,
        "name": "ml.c5.2xlarge",
        "vcpuNum": 8
      },
      {
        "_defaultOrder": 24,
        "_isFastLaunch": false,
        "category": "Compute optimized",
        "gpuNum": 0,
        "hideHardwareSpecs": false,
        "memoryGiB": 32,
        "name": "ml.c5.4xlarge",
        "vcpuNum": 16
      },
      {
        "_defaultOrder": 25,
        "_isFastLaunch": false,
        "category": "Compute optimized",
        "gpuNum": 0,
        "hideHardwareSpecs": false,
        "memoryGiB": 72,
        "name": "ml.c5.9xlarge",
        "vcpuNum": 36
      },
      {
        "_defaultOrder": 26,
        "_isFastLaunch": false,
        "category": "Compute optimized",
        "gpuNum": 0,
        "hideHardwareSpecs": false,
        "memoryGiB": 96,
        "name": "ml.c5.12xlarge",
        "vcpuNum": 48
      },
      {
        "_defaultOrder": 27,
        "_isFastLaunch": false,
        "category": "Compute optimized",
        "gpuNum": 0,
        "hideHardwareSpecs": false,
        "memoryGiB": 144,
        "name": "ml.c5.18xlarge",
        "vcpuNum": 72
      },
      {
        "_defaultOrder": 28,
        "_isFastLaunch": false,
        "category": "Compute optimized",
        "gpuNum": 0,
        "hideHardwareSpecs": false,
        "memoryGiB": 192,
        "name": "ml.c5.24xlarge",
        "vcpuNum": 96
      },
      {
        "_defaultOrder": 29,
        "_isFastLaunch": true,
        "category": "Accelerated computing",
        "gpuNum": 1,
        "hideHardwareSpecs": false,
        "memoryGiB": 16,
        "name": "ml.g4dn.xlarge",
        "vcpuNum": 4
      },
      {
        "_defaultOrder": 30,
        "_isFastLaunch": false,
        "category": "Accelerated computing",
        "gpuNum": 1,
        "hideHardwareSpecs": false,
        "memoryGiB": 32,
        "name": "ml.g4dn.2xlarge",
        "vcpuNum": 8
      },
      {
        "_defaultOrder": 31,
        "_isFastLaunch": false,
        "category": "Accelerated computing",
        "gpuNum": 1,
        "hideHardwareSpecs": false,
        "memoryGiB": 64,
        "name": "ml.g4dn.4xlarge",
        "vcpuNum": 16
      },
      {
        "_defaultOrder": 32,
        "_isFastLaunch": false,
        "category": "Accelerated computing",
        "gpuNum": 1,
        "hideHardwareSpecs": false,
        "memoryGiB": 128,
        "name": "ml.g4dn.8xlarge",
        "vcpuNum": 32
      },
      {
        "_defaultOrder": 33,
        "_isFastLaunch": false,
        "category": "Accelerated computing",
        "gpuNum": 4,
        "hideHardwareSpecs": false,
        "memoryGiB": 192,
        "name": "ml.g4dn.12xlarge",
        "vcpuNum": 48
      },
      {
        "_defaultOrder": 34,
        "_isFastLaunch": false,
        "category": "Accelerated computing",
        "gpuNum": 1,
        "hideHardwareSpecs": false,
        "memoryGiB": 256,
        "name": "ml.g4dn.16xlarge",
        "vcpuNum": 64
      },
      {
        "_defaultOrder": 35,
        "_isFastLaunch": false,
        "category": "Accelerated computing",
        "gpuNum": 1,
        "hideHardwareSpecs": false,
        "memoryGiB": 61,
        "name": "ml.p3.2xlarge",
        "vcpuNum": 8
      },
      {
        "_defaultOrder": 36,
        "_isFastLaunch": false,
        "category": "Accelerated computing",
        "gpuNum": 4,
        "hideHardwareSpecs": false,
        "memoryGiB": 244,
        "name": "ml.p3.8xlarge",
        "vcpuNum": 32
      },
      {
        "_defaultOrder": 37,
        "_isFastLaunch": false,
        "category": "Accelerated computing",
        "gpuNum": 8,
        "hideHardwareSpecs": false,
        "memoryGiB": 488,
        "name": "ml.p3.16xlarge",
        "vcpuNum": 64
      },
      {
        "_defaultOrder": 38,
        "_isFastLaunch": false,
        "category": "Accelerated computing",
        "gpuNum": 8,
        "hideHardwareSpecs": false,
        "memoryGiB": 768,
        "name": "ml.p3dn.24xlarge",
        "vcpuNum": 96
      },
      {
        "_defaultOrder": 39,
        "_isFastLaunch": false,
        "category": "Memory Optimized",
        "gpuNum": 0,
        "hideHardwareSpecs": false,
        "memoryGiB": 16,
        "name": "ml.r5.large",
        "vcpuNum": 2
      },
      {
        "_defaultOrder": 40,
        "_isFastLaunch": false,
        "category": "Memory Optimized",
        "gpuNum": 0,
        "hideHardwareSpecs": false,
        "memoryGiB": 32,
        "name": "ml.r5.xlarge",
        "vcpuNum": 4
      },
      {
        "_defaultOrder": 41,
        "_isFastLaunch": false,
        "category": "Memory Optimized",
        "gpuNum": 0,
        "hideHardwareSpecs": false,
        "memoryGiB": 64,
        "name": "ml.r5.2xlarge",
        "vcpuNum": 8
      },
      {
        "_defaultOrder": 42,
        "_isFastLaunch": false,
        "category": "Memory Optimized",
        "gpuNum": 0,
        "hideHardwareSpecs": false,
        "memoryGiB": 128,
        "name": "ml.r5.4xlarge",
        "vcpuNum": 16
      },
      {
        "_defaultOrder": 43,
        "_isFastLaunch": false,
        "category": "Memory Optimized",
        "gpuNum": 0,
        "hideHardwareSpecs": false,
        "memoryGiB": 256,
        "name": "ml.r5.8xlarge",
        "vcpuNum": 32
      },
      {
        "_defaultOrder": 44,
        "_isFastLaunch": false,
        "category": "Memory Optimized",
        "gpuNum": 0,
        "hideHardwareSpecs": false,
        "memoryGiB": 384,
        "name": "ml.r5.12xlarge",
        "vcpuNum": 48
      },
      {
        "_defaultOrder": 45,
        "_isFastLaunch": false,
        "category": "Memory Optimized",
        "gpuNum": 0,
        "hideHardwareSpecs": false,
        "memoryGiB": 512,
        "name": "ml.r5.16xlarge",
        "vcpuNum": 64
      },
      {
        "_defaultOrder": 46,
        "_isFastLaunch": false,
        "category": "Memory Optimized",
        "gpuNum": 0,
        "hideHardwareSpecs": false,
        "memoryGiB": 768,
        "name": "ml.r5.24xlarge",
        "vcpuNum": 96
      },
      {
        "_defaultOrder": 47,
        "_isFastLaunch": false,
        "category": "Accelerated computing",
        "gpuNum": 1,
        "hideHardwareSpecs": false,
        "memoryGiB": 16,
        "name": "ml.g5.xlarge",
        "vcpuNum": 4
      },
      {
        "_defaultOrder": 48,
        "_isFastLaunch": false,
        "category": "Accelerated computing",
        "gpuNum": 1,
        "hideHardwareSpecs": false,
        "memoryGiB": 32,
        "name": "ml.g5.2xlarge",
        "vcpuNum": 8
      },
      {
        "_defaultOrder": 49,
        "_isFastLaunch": false,
        "category": "Accelerated computing",
        "gpuNum": 1,
        "hideHardwareSpecs": false,
        "memoryGiB": 64,
        "name": "ml.g5.4xlarge",
        "vcpuNum": 16
      },
      {
        "_defaultOrder": 50,
        "_isFastLaunch": false,
        "category": "Accelerated computing",
        "gpuNum": 1,
        "hideHardwareSpecs": false,
        "memoryGiB": 128,
        "name": "ml.g5.8xlarge",
        "vcpuNum": 32
      },
      {
        "_defaultOrder": 51,
        "_isFastLaunch": false,
        "category": "Accelerated computing",
        "gpuNum": 1,
        "hideHardwareSpecs": false,
        "memoryGiB": 256,
        "name": "ml.g5.16xlarge",
        "vcpuNum": 64
      },
      {
        "_defaultOrder": 52,
        "_isFastLaunch": false,
        "category": "Accelerated computing",
        "gpuNum": 4,
        "hideHardwareSpecs": false,
        "memoryGiB": 192,
        "name": "ml.g5.12xlarge",
        "vcpuNum": 48
      },
      {
        "_defaultOrder": 53,
        "_isFastLaunch": false,
        "category": "Accelerated computing",
        "gpuNum": 4,
        "hideHardwareSpecs": false,
        "memoryGiB": 384,
        "name": "ml.g5.24xlarge",
        "vcpuNum": 96
      },
      {
        "_defaultOrder": 54,
        "_isFastLaunch": false,
        "category": "Accelerated computing",
        "gpuNum": 8,
        "hideHardwareSpecs": false,
        "memoryGiB": 768,
        "name": "ml.g5.48xlarge",
        "vcpuNum": 192
      },
      {
        "_defaultOrder": 55,
        "_isFastLaunch": false,
        "category": "Accelerated computing",
        "gpuNum": 8,
        "hideHardwareSpecs": false,
        "memoryGiB": 1152,
        "name": "ml.p4d.24xlarge",
        "vcpuNum": 96
      },
      {
        "_defaultOrder": 56,
        "_isFastLaunch": false,
        "category": "Accelerated computing",
        "gpuNum": 8,
        "hideHardwareSpecs": false,
        "memoryGiB": 1152,
        "name": "ml.p4de.24xlarge",
        "vcpuNum": 96
      }
    ],
    "instance_type": "ml.t3.medium",
    "kernelspec": {
      "display_name": "Python 3 (Data Science)",
      "language": "python",
      "name": "python3__SAGEMAKER_INTERNAL__arn:aws:sagemaker:us-east-1:081325390199:image/datascience-1.0"
    },
    "language_info": {
      "codemirror_mode": {
        "name": "ipython",
        "version": 3
      },
      "file_extension": ".py",
      "mimetype": "text/x-python",
      "name": "python",
      "nbconvert_exporter": "python",
      "pygments_lexer": "ipython3",
      "version": "3.7.10"
    },
    "lcc_arn": "arn:aws:sagemaker:us-east-1:425657697824:studio-lifecycle-config/clean-trash",
    "colab": {
      "provenance": []
    }
  },
  "nbformat": 4,
  "nbformat_minor": 5
}
